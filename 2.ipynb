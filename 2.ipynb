{
 "cells": [
  {
   "cell_type": "code",
   "execution_count": 1,
   "metadata": {
    "collapsed": true
   },
   "outputs": [],
   "source": [
    "import numpy as np\n",
    "import pandas as pd\n",
    "import matplotlib.pyplot as plt"
   ]
  },
  {
   "cell_type": "code",
   "execution_count": 2,
   "metadata": {
    "collapsed": true
   },
   "outputs": [],
   "source": [
    "df = pd.read_csv('Privacy_Rights_Clearinghouse-Data-Breaches-Export.csv')"
   ]
  },
  {
   "cell_type": "code",
   "execution_count": 3,
   "metadata": {},
   "outputs": [
    {
     "data": {
      "text/html": [
       "<div>\n",
       "<style>\n",
       "    .dataframe thead tr:only-child th {\n",
       "        text-align: right;\n",
       "    }\n",
       "\n",
       "    .dataframe thead th {\n",
       "        text-align: left;\n",
       "    }\n",
       "\n",
       "    .dataframe tbody tr th {\n",
       "        vertical-align: top;\n",
       "    }\n",
       "</style>\n",
       "<table border=\"1\" class=\"dataframe\">\n",
       "  <thead>\n",
       "    <tr style=\"text-align: right;\">\n",
       "      <th></th>\n",
       "      <th>Date Made Public</th>\n",
       "      <th>Company</th>\n",
       "      <th>Location</th>\n",
       "      <th>Type of breach</th>\n",
       "      <th>Type of organization</th>\n",
       "      <th>Total Records</th>\n",
       "      <th>Description of incident</th>\n",
       "      <th>Information Source</th>\n",
       "      <th>Source URL</th>\n",
       "    </tr>\n",
       "  </thead>\n",
       "  <tbody>\n",
       "    <tr>\n",
       "      <th>0</th>\n",
       "      <td>October 21, 2009</td>\n",
       "      <td>Bullitt County Public Schools</td>\n",
       "      <td>Shepherdsville, Kentucky</td>\n",
       "      <td>DISC</td>\n",
       "      <td>EDU</td>\n",
       "      <td>676</td>\n",
       "      <td>A Bullitt County Public Schools \\n            ...</td>\n",
       "      <td>Dataloss DB</td>\n",
       "      <td>NaN</td>\n",
       "    </tr>\n",
       "    <tr>\n",
       "      <th>1</th>\n",
       "      <td>October 21, 2009</td>\n",
       "      <td>Roane State Community College</td>\n",
       "      <td>Harriman, Tennessee</td>\n",
       "      <td>PORT</td>\n",
       "      <td>EDU</td>\n",
       "      <td>14,783</td>\n",
       "      <td>Roane State Community College \\n            ha...</td>\n",
       "      <td>Dataloss DB</td>\n",
       "      <td>NaN</td>\n",
       "    </tr>\n",
       "    <tr>\n",
       "      <th>2</th>\n",
       "      <td>October 15, 2009</td>\n",
       "      <td>Halifax Health</td>\n",
       "      <td>Daytona Beach, Florida</td>\n",
       "      <td>PORT</td>\n",
       "      <td>MED</td>\n",
       "      <td>33,000</td>\n",
       "      <td>A laptop computer from a Halifax \\n           ...</td>\n",
       "      <td>Dataloss DB</td>\n",
       "      <td>NaN</td>\n",
       "    </tr>\n",
       "    <tr>\n",
       "      <th>3</th>\n",
       "      <td>October 4, 2009</td>\n",
       "      <td>Suffolk Community College</td>\n",
       "      <td>Selden, New York</td>\n",
       "      <td>DISC</td>\n",
       "      <td>EDU</td>\n",
       "      <td>300</td>\n",
       "      <td>Suffolk Community College has \\n            ag...</td>\n",
       "      <td>Dataloss DB</td>\n",
       "      <td>NaN</td>\n",
       "    </tr>\n",
       "    <tr>\n",
       "      <th>4</th>\n",
       "      <td>September 28, 2009</td>\n",
       "      <td>Penrose Hospital</td>\n",
       "      <td>Colorado Springs, Colorado</td>\n",
       "      <td>PHYS</td>\n",
       "      <td>MED</td>\n",
       "      <td>175</td>\n",
       "      <td>Officials at Penrose Hospital              bel...</td>\n",
       "      <td>Dataloss DB</td>\n",
       "      <td>NaN</td>\n",
       "    </tr>\n",
       "  </tbody>\n",
       "</table>\n",
       "</div>"
      ],
      "text/plain": [
       "     Date Made Public                         Company  \\\n",
       "0    October 21, 2009   Bullitt County Public Schools   \n",
       "1    October 21, 2009  Roane State Community College    \n",
       "2    October 15, 2009                  Halifax Health   \n",
       "3     October 4, 2009       Suffolk Community College   \n",
       "4  September 28, 2009                Penrose Hospital   \n",
       "\n",
       "                     Location Type of breach Type of organization  \\\n",
       "0    Shepherdsville, Kentucky           DISC                  EDU   \n",
       "1         Harriman, Tennessee           PORT                  EDU   \n",
       "2      Daytona Beach, Florida           PORT                  MED   \n",
       "3            Selden, New York           DISC                  EDU   \n",
       "4  Colorado Springs, Colorado           PHYS                  MED   \n",
       "\n",
       "  Total Records                            Description of incident  \\\n",
       "0           676  A Bullitt County Public Schools \\n            ...   \n",
       "1        14,783  Roane State Community College \\n            ha...   \n",
       "2        33,000  A laptop computer from a Halifax \\n           ...   \n",
       "3           300  Suffolk Community College has \\n            ag...   \n",
       "4           175  Officials at Penrose Hospital              bel...   \n",
       "\n",
       "  Information Source Source URL  \n",
       "0        Dataloss DB        NaN  \n",
       "1        Dataloss DB        NaN  \n",
       "2        Dataloss DB        NaN  \n",
       "3        Dataloss DB        NaN  \n",
       "4        Dataloss DB        NaN  "
      ]
     },
     "execution_count": 3,
     "metadata": {},
     "output_type": "execute_result"
    }
   ],
   "source": [
    "df.head()"
   ]
  },
  {
   "cell_type": "code",
   "execution_count": 4,
   "metadata": {},
   "outputs": [
    {
     "data": {
      "text/plain": [
       "Index(['Date Made Public', 'Company', 'Location', 'Type of breach',\n",
       "       'Type of organization', 'Total Records', 'Description of incident',\n",
       "       'Information Source', 'Source URL'],\n",
       "      dtype='object')"
      ]
     },
     "execution_count": 4,
     "metadata": {},
     "output_type": "execute_result"
    }
   ],
   "source": [
    "df.columns"
   ]
  },
  {
   "cell_type": "code",
   "execution_count": 5,
   "metadata": {},
   "outputs": [
    {
     "data": {
      "text/plain": [
       "0      October 21, 2009\n",
       "1      October 21, 2009\n",
       "2      October 15, 2009\n",
       "3       October 4, 2009\n",
       "4    September 28, 2009\n",
       "Name: Date Made Public, dtype: object"
      ]
     },
     "execution_count": 5,
     "metadata": {},
     "output_type": "execute_result"
    }
   ],
   "source": [
    "dates = df['Date Made Public']\n",
    "dates.head()"
   ]
  },
  {
   "cell_type": "code",
   "execution_count": 6,
   "metadata": {
    "collapsed": true
   },
   "outputs": [],
   "source": [
    "dates.to_csv('fechas.csv', index=False)"
   ]
  },
  {
   "cell_type": "code",
   "execution_count": 7,
   "metadata": {},
   "outputs": [],
   "source": [
    "dict_months = {'January':1, 'February':2, 'March':3, 'April':4,\n",
    "               'May':5, 'June':6, 'July':7, 'August':8, 'September':9,\n",
    "               'October':10, 'November':11, 'December':12}\n",
    "\n",
    "months = []\n",
    "months_int = []\n",
    "days = []\n",
    "years = []\n",
    "\n",
    "for d in dates:\n",
    "    md = d.split(', ')[0]\n",
    "    day = md.split(' ')[1]\n",
    "    month = md.split(' ')[0]\n",
    "    year = d.split(', ')[1]\n",
    "    \n",
    "    months.append(month)\n",
    "    months_int.append(dict_months[month])\n",
    "    days.append(int(day))\n",
    "    years.append(int(year))"
   ]
  },
  {
   "cell_type": "code",
   "execution_count": 8,
   "metadata": {},
   "outputs": [],
   "source": [
    "dates_new = np.array([days,months,months_int,years])\n",
    "df_new = pd.DataFrame(np.transpose(dates_new), \n",
    "                      columns = ['d','m','m_i','y'])"
   ]
  },
  {
   "cell_type": "code",
   "execution_count": 9,
   "metadata": {},
   "outputs": [
    {
     "data": {
      "text/html": [
       "<div>\n",
       "<style>\n",
       "    .dataframe thead tr:only-child th {\n",
       "        text-align: right;\n",
       "    }\n",
       "\n",
       "    .dataframe thead th {\n",
       "        text-align: left;\n",
       "    }\n",
       "\n",
       "    .dataframe tbody tr th {\n",
       "        vertical-align: top;\n",
       "    }\n",
       "</style>\n",
       "<table border=\"1\" class=\"dataframe\">\n",
       "  <thead>\n",
       "    <tr style=\"text-align: right;\">\n",
       "      <th></th>\n",
       "      <th>d</th>\n",
       "      <th>m</th>\n",
       "      <th>m_i</th>\n",
       "      <th>y</th>\n",
       "    </tr>\n",
       "  </thead>\n",
       "  <tbody>\n",
       "    <tr>\n",
       "      <th>0</th>\n",
       "      <td>21</td>\n",
       "      <td>October</td>\n",
       "      <td>10</td>\n",
       "      <td>2009</td>\n",
       "    </tr>\n",
       "    <tr>\n",
       "      <th>1</th>\n",
       "      <td>21</td>\n",
       "      <td>October</td>\n",
       "      <td>10</td>\n",
       "      <td>2009</td>\n",
       "    </tr>\n",
       "    <tr>\n",
       "      <th>2</th>\n",
       "      <td>15</td>\n",
       "      <td>October</td>\n",
       "      <td>10</td>\n",
       "      <td>2009</td>\n",
       "    </tr>\n",
       "    <tr>\n",
       "      <th>3</th>\n",
       "      <td>4</td>\n",
       "      <td>October</td>\n",
       "      <td>10</td>\n",
       "      <td>2009</td>\n",
       "    </tr>\n",
       "    <tr>\n",
       "      <th>4</th>\n",
       "      <td>28</td>\n",
       "      <td>September</td>\n",
       "      <td>9</td>\n",
       "      <td>2009</td>\n",
       "    </tr>\n",
       "  </tbody>\n",
       "</table>\n",
       "</div>"
      ],
      "text/plain": [
       "    d          m m_i     y\n",
       "0  21    October  10  2009\n",
       "1  21    October  10  2009\n",
       "2  15    October  10  2009\n",
       "3   4    October  10  2009\n",
       "4  28  September   9  2009"
      ]
     },
     "execution_count": 9,
     "metadata": {},
     "output_type": "execute_result"
    }
   ],
   "source": [
    "df_new.head()"
   ]
  },
  {
   "cell_type": "code",
   "execution_count": 10,
   "metadata": {},
   "outputs": [
    {
     "name": "stdout",
     "output_type": "stream",
     "text": [
      "['2005' '2006' '2007' '2008' '2009' '2010' '2011' '2012' '2013' '2014'\n",
      " '2015' '2016' '2017']\n"
     ]
    }
   ],
   "source": [
    "distinct_years = np.sort( df_new['y'].value_counts().keys() )\n",
    "print(distinct_years)"
   ]
  },
  {
   "cell_type": "code",
   "execution_count": 11,
   "metadata": {},
   "outputs": [],
   "source": [
    "months_str = []\n",
    "counts = []\n",
    "mrs = [0]\n",
    "\n",
    "f = 0\n",
    "for dy in distinct_years:\n",
    "    for i in range(1,13):\n",
    "        inds = ((df_new['y']==dy) & (df_new['m_i']==str(i)))\n",
    "        cs = df_new[inds]['m'].value_counts() \n",
    "        ks = cs.keys()\n",
    "        for c,k in zip(cs,ks):\n",
    "            months_str.append(k)\n",
    "            counts.append(c)\n",
    "            if f==0:\n",
    "                f=1\n",
    "            else:\n",
    "                mrs.append(c-counts[-2])"
   ]
  },
  {
   "cell_type": "code",
   "execution_count": 12,
   "metadata": {},
   "outputs": [],
   "source": [
    "mrs = mrs[1:]"
   ]
  },
  {
   "cell_type": "code",
   "execution_count": 14,
   "metadata": {
    "collapsed": true
   },
   "outputs": [],
   "source": [
    "counts = np.array(counts)\n",
    "mrs = np.array(mrs)"
   ]
  },
  {
   "cell_type": "code",
   "execution_count": 15,
   "metadata": {
    "collapsed": true
   },
   "outputs": [],
   "source": [
    "# Mean\n",
    "mean_c = np.mean(counts)\n",
    "mean_m = np.mean(mrs)\n",
    "ucl_c = mean_c + 2.66*mean_m\n",
    "lcl_c = mean_c - 2.66*mean_m\n",
    "ucl_m = 3.27*mean_m\n",
    "lcl_m = 0"
   ]
  },
  {
   "cell_type": "code",
   "execution_count": 16,
   "metadata": {},
   "outputs": [
    {
     "name": "stdout",
     "output_type": "stream",
     "text": [
      "50.0551612903 50.2451612903 50.4351612903\n",
      "0 0.0714285714286 0.233571428571\n"
     ]
    }
   ],
   "source": [
    "print(lcl_c, mean_c, ucl_c)\n",
    "print(lcl_m, mean_m, ucl_m)"
   ]
  },
  {
   "cell_type": "code",
   "execution_count": 17,
   "metadata": {},
   "outputs": [],
   "source": [
    "x_values = range(len(counts))\n",
    "\n",
    "plt.figure(figsize=(50,15))\n",
    "plt.plot(x_values, counts, label='Counts',lw=2)\n",
    "plt.axhline(ucl_c, linestyle='--', c='g', label='UCL - LCL')\n",
    "plt.axhline(lcl_c, linestyle='--', c='g')\n",
    "plt.axhline(mean_c, linestyle='-.', c='c', label='Mean')\n",
    "plt.xticks(x_values, months_str, rotation='vertical')\n",
    "plt.legend()\n",
    "plt.xlabel('MONTH (2005 - 2017)')\n",
    "plt.ylabel('COUNT VALUES')\n",
    "plt.savefig('2_CV_mean.png', bbox_inches='tight')\n",
    "\n",
    "x_values = range(len(mrs))\n",
    "\n",
    "plt.figure(figsize=(50,15))\n",
    "plt.plot(x_values, mrs, label='Moving Range',lw=2)\n",
    "plt.axhline(ucl_m, linestyle='--', c='g', label='UCL - LCL')\n",
    "plt.axhline(lcl_m, linestyle='--', c='g')\n",
    "plt.axhline(mean_m, linestyle='-.', c='c', label='Mean')\n",
    "plt.xticks(x_values, months_str[1:], rotation='vertical')\n",
    "plt.legend()\n",
    "plt.xlabel('MONTH (2005 - 2017)')\n",
    "plt.ylabel('MOVING RANGE')\n",
    "plt.savefig('2_MR_mean.png', bbox_inches='tight')"
   ]
  },
  {
   "cell_type": "code",
   "execution_count": 18,
   "metadata": {
    "collapsed": true
   },
   "outputs": [],
   "source": [
    "# Median\n",
    "median_c = np.median(counts)\n",
    "median_m = np.median(mrs)\n",
    "ucl_c = median_c + 2.66*median_m\n",
    "lcl_c = median_c - 2.66*median_m\n",
    "ucl_m = 3.27*median_m\n",
    "lcl_m = 0"
   ]
  },
  {
   "cell_type": "code",
   "execution_count": 20,
   "metadata": {},
   "outputs": [
    {
     "name": "stdout",
     "output_type": "stream",
     "text": [
      "52.0 52.0 52.0\n",
      "0 0.0 0.0\n"
     ]
    }
   ],
   "source": [
    "print(lcl_c, median_c, ucl_c)\n",
    "print(lcl_m, median_m, ucl_m)"
   ]
  },
  {
   "cell_type": "code",
   "execution_count": 19,
   "metadata": {
    "collapsed": true
   },
   "outputs": [],
   "source": [
    "x_values = range(len(counts))\n",
    "\n",
    "plt.figure(figsize=(50,15))\n",
    "plt.plot(x_values, counts, label='Counts',lw=2)\n",
    "plt.axhline(ucl_c, linestyle='--', c='g', label='UCL - LCL')\n",
    "plt.axhline(lcl_c, linestyle='--', c='g')\n",
    "plt.axhline(median_c, linestyle='-.', c='c', label='Median')\n",
    "plt.xticks(x_values, months_str, rotation='vertical')\n",
    "plt.legend()\n",
    "plt.xlabel('MONTH (2005 - 2017)')\n",
    "plt.ylabel('COUNT VALUES')\n",
    "plt.savefig('2_CV_median.png', bbox_inches='tight')\n",
    "\n",
    "x_values = range(len(mrs))\n",
    "\n",
    "plt.figure(figsize=(50,15))\n",
    "plt.plot(x_values, mrs, label='Moving Range',lw=2)\n",
    "plt.axhline(ucl_m, linestyle='--', c='g', label='UCL - LCL')\n",
    "plt.axhline(lcl_m, linestyle='--', c='g')\n",
    "plt.axhline(median_m, linestyle='-.', c='c', label='Median')\n",
    "plt.xticks(x_values, months_str[1:], rotation='vertical')\n",
    "plt.legend()\n",
    "plt.xlabel('MONTH (2005 - 2017)')\n",
    "plt.ylabel('MOVING RANGE')\n",
    "plt.savefig('2_MR_median.png', bbox_inches='tight')"
   ]
  },
  {
   "cell_type": "code",
   "execution_count": null,
   "metadata": {
    "collapsed": true
   },
   "outputs": [],
   "source": []
  },
  {
   "cell_type": "code",
   "execution_count": null,
   "metadata": {
    "collapsed": true
   },
   "outputs": [],
   "source": []
  },
  {
   "cell_type": "code",
   "execution_count": null,
   "metadata": {
    "collapsed": true
   },
   "outputs": [],
   "source": []
  }
 ],
 "metadata": {
  "kernelspec": {
   "display_name": "Python 3",
   "language": "python",
   "name": "python3"
  },
  "language_info": {
   "codemirror_mode": {
    "name": "ipython",
    "version": 3
   },
   "file_extension": ".py",
   "mimetype": "text/x-python",
   "name": "python",
   "nbconvert_exporter": "python",
   "pygments_lexer": "ipython3",
   "version": "3.6.1"
  }
 },
 "nbformat": 4,
 "nbformat_minor": 2
}
